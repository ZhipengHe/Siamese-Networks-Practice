{
 "cells": [
  {
   "cell_type": "markdown",
   "source": [
    "# Siamese Neural Network - omniglot dataset"
   ],
   "metadata": {}
  },
  {
   "cell_type": "markdown",
   "source": [
    "## Import Library"
   ],
   "metadata": {}
  },
  {
   "cell_type": "code",
   "execution_count": 1,
   "source": [
    "import tensorflow as tf\r\n",
    "from tensorflow import keras\r\n",
    "\r\n",
    "import tensorflow_datasets as tfds"
   ],
   "outputs": [],
   "metadata": {}
  },
  {
   "cell_type": "markdown",
   "source": [
    "## Load the Omniglot dataset "
   ],
   "metadata": {}
  },
  {
   "cell_type": "code",
   "execution_count": 2,
   "source": [
    "(ds_train, ds_test), ds_info = tfds.load('omniglot', split=['train','test'], with_info=True)"
   ],
   "outputs": [],
   "metadata": {}
  },
  {
   "cell_type": "code",
   "execution_count": 3,
   "source": [
    "print(list(ds_info.features.keys()))"
   ],
   "outputs": [
    {
     "output_type": "stream",
     "name": "stdout",
     "text": [
      "['image', 'alphabet', 'alphabet_char_id', 'label']\n"
     ]
    }
   ],
   "metadata": {}
  },
  {
   "cell_type": "markdown",
   "source": [
    "## Split the dataset to train and test"
   ],
   "metadata": {}
  },
  {
   "cell_type": "code",
   "execution_count": 4,
   "source": [
    "# ds_train = []\r\n",
    "# ds_test = []\r\n",
    "\r\n",
    "# for case in ds[0]:\r\n",
    "#     ds_train.append((case[\"image\"],case[\"alphabet\"]))\r\n",
    "\r\n",
    "# for case in ds[1]:\r\n",
    "#     ds_test.append((case[\"image\"],case[\"alphabet\"]))\r\n",
    "\r\n"
   ],
   "outputs": [],
   "metadata": {}
  },
  {
   "cell_type": "code",
   "execution_count": 5,
   "source": [
    "def normalize_img(case):\r\n",
    "  \"\"\"Normalizes images: `uint8` -> `float32`.\"\"\"\r\n",
    "  return tf.cast(case[\"image\"], tf.float32) / 255., case[\"alphabet\"]\r\n",
    "\r\n",
    "ds_train = ds_train.map(\r\n",
    "  normalize_img, num_parallel_calls=tf.data.experimental.AUTOTUNE)\r\n",
    "ds_train = ds_train.cache()\r\n",
    "ds_train = ds_train.shuffle(ds_info.splits['train'].num_examples)\r\n",
    "ds_train = ds_train.batch(128)\r\n",
    "ds_train = ds_train.prefetch(tf.data.experimental.AUTOTUNE)"
   ],
   "outputs": [],
   "metadata": {}
  },
  {
   "cell_type": "code",
   "execution_count": 6,
   "source": [
    "ds_test = ds_test.map(\r\n",
    "    normalize_img, num_parallel_calls=tf.data.experimental.AUTOTUNE)\r\n",
    "ds_test = ds_test.batch(128)\r\n",
    "ds_test = ds_test.cache()\r\n",
    "ds_test = ds_test.prefetch(tf.data.experimental.AUTOTUNE)"
   ],
   "outputs": [],
   "metadata": {}
  },
  {
   "cell_type": "code",
   "execution_count": null,
   "source": [],
   "outputs": [],
   "metadata": {}
  }
 ],
 "metadata": {
  "orig_nbformat": 4,
  "language_info": {
   "name": "python",
   "version": "3.8.10",
   "mimetype": "text/x-python",
   "codemirror_mode": {
    "name": "ipython",
    "version": 3
   },
   "pygments_lexer": "ipython3",
   "nbconvert_exporter": "python",
   "file_extension": ".py"
  },
  "kernelspec": {
   "name": "python3",
   "display_name": "Python 3.8.10 64-bit ('tf25': conda)"
  },
  "interpreter": {
   "hash": "08dfbe3c2d8b9822053deb415fc1c36f08db57564acd6565922fa8b63a8cfa7f"
  }
 },
 "nbformat": 4,
 "nbformat_minor": 2
}